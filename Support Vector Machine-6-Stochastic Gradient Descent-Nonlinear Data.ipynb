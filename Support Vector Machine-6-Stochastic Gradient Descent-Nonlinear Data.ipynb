{
 "cells": [
  {
   "cell_type": "markdown",
   "metadata": {},
   "source": [
    "# Support Vector Machine: SGD on Nonlinear Data\n",
    "\n",
    "In this notebook, we use the Stochastic Gradient Descent (SGD) algorithm for the SVM model to solve a binary classification problem on a **linearly non-separable** dataset.\n",
    "\n",
    "Unlike the kernel SVM (implemented by Scikit-Learn's SVC class), the SGD algorithm for SVM (implemented by Scikit-Learn's SGDClassifier) is unable to separate nonlinear data. First we need to augment the features by adding polynomial terms. \n",
    "\n",
    "We experiment with two cases:\n",
    "\n",
    "- Case 1: No Feature Augmentation\n",
    "- Case 2: Feature Augmentation"
   ]
  },
  {
   "cell_type": "code",
   "execution_count": 1,
   "metadata": {},
   "outputs": [],
   "source": [
    "import warnings\n",
    "import numpy as np\n",
    "import matplotlib.pyplot as plt\n",
    "\n",
    "from sklearn.datasets import make_circles\n",
    "\n",
    "from sklearn.preprocessing import StandardScaler, PolynomialFeatures\n",
    "from sklearn.linear_model import SGDClassifier\n",
    "from sklearn.pipeline import Pipeline\n",
    "from sklearn.model_selection import train_test_split, GridSearchCV"
   ]
  },
  {
   "cell_type": "markdown",
   "metadata": {},
   "source": [
    "## Function to Draw Decision Boundary "
   ]
  },
  {
   "cell_type": "code",
   "execution_count": 2,
   "metadata": {},
   "outputs": [],
   "source": [
    "def decision_boundary_class_colored(clf, X, plotDistanceFromHyperplane=False, colorBar=False):\n",
    "    \n",
    "    # Get the min and max value of feature x1\n",
    "    x1min, x1max = X[:,0].min() - 1, X[:, 0].max() + 1\n",
    "    \n",
    "    # Get the min and max value of feature x2\n",
    "    x2min, x2max = X[:,1].min() - 1, X[:, 1].max() + 1\n",
    "    \n",
    "    # Create the mesh grid\n",
    "    x1s = np.linspace(x1min, x1max, 100)\n",
    "    x2s = np.linspace(x2min, x2max, 100)\n",
    "    x1, x2 = np.meshgrid(x1s, x2s)\n",
    "    \n",
    "    \n",
    "    # Create pairs of new points from the grid\n",
    "    X_new = np.c_[x1.ravel(), x2.ravel()]\n",
    "    \n",
    "    \n",
    "    # Compute the class predictions for all new points\n",
    "    y_pred = clf.predict(X_new).reshape(x1.shape)\n",
    "    \n",
    "    \n",
    "    # Generate the contourf plot for the predictions\n",
    "    #plt.contourf(x1, x2, y_pred, cmap=plt.cm.bwr, alpha=0.2)\n",
    "    plt.contourf(x1, x2, y_pred, cmap=plt.cm.RdGy, alpha=0.99)\n",
    "    \n",
    "    \n",
    "    if(plotDistanceFromHyperplane == True):\n",
    "    \n",
    "        # Compute the signed distance of a sample to the hyperplane for all new points\n",
    "        y_decision = clf.decision_function(X_new).reshape(x1.shape)\n",
    "\n",
    "        # Generate the contour plot for the distance of all points from the hyperplane and the two margins\n",
    "        plt.contour(x1, x2, y_decision, levels=[-1, 0, 1], alpha=0.5, linestyles=['--', '-', '--'], colors='black')\n",
    "        \n",
    "        \n",
    "        #plt.pcolormesh(x1, x2, -y_decision, cmap=plt.cm.RdBu)\n",
    "        \n",
    "        # Generate the contourf plot for the distance of all points from the hyperplane\n",
    "        plt.contourf(x1, x2, y_decision, cmap=plt.cm.bwr, alpha=0.2)\n",
    "    \n",
    "    \n",
    "    if(colorBar==True):\n",
    "        plt.colorbar()   "
   ]
  },
  {
   "cell_type": "markdown",
   "metadata": {},
   "source": [
    "## Linearly Non-Separable Dataset\n",
    "\n",
    "We use Scikit-Learn's \"datasets.make_circles\" function to generate a synthetic nonlinear dataset that is suitable for investigating classification (as well as clustering) models. It creates a large circle containing a smaller circle in 2d.\n",
    "\n",
    "The following two parameters are used by the make_circles function:\n",
    "\n",
    "factor : Scale factor between inner and outer circle. Range 0 ~ 1.\n",
    "\n",
    "noise : Standard deviation of Gaussian noise added to the data."
   ]
  },
  {
   "cell_type": "code",
   "execution_count": 3,
   "metadata": {},
   "outputs": [
    {
     "data": {
      "image/png": "[encoded data removed]",
      "text/plain": [
       "<Figure size 864x432 with 1 Axes>"
      ]
     },
     "metadata": {},
     "output_type": "display_data"
    }
   ],
   "source": [
    "X, y = make_circles(300, factor=0.4, noise=0.15)\n",
    "label = y\n",
    "\n",
    "plt.figure(figsize=(12, 6))\n",
    "\n",
    "plt.plot(X[y.ravel()==0, 0], X[y.ravel()==0, 1], \"wo\", markeredgecolor=\"k\")\n",
    "plt.plot(X[y.ravel()==1, 0], X[y.ravel()==1, 1], \"yo\")\n",
    "\n",
    "plt.title(\"Linearly Non-separable Dataset\", fontsize=16)\n",
    "plt.xlabel(\"$x_1$\", fontsize=14)\n",
    "plt.ylabel(\"$x_2$\", fontsize=14)\n",
    "plt.xticks(())\n",
    "plt.yticks(())\n",
    "plt.show()"
   ]
  },
  {
   "cell_type": "markdown",
   "metadata": {},
   "source": [
    "## Create Train & Test Dataset"
   ]
  },
  {
   "cell_type": "code",
   "execution_count": 4,
   "metadata": {},
   "outputs": [],
   "source": [
    "X_train, X_test, y_train, y_test = train_test_split(X, y, test_size=0.20, random_state=42)"
   ]
  },
  {
   "cell_type": "markdown",
   "metadata": {},
   "source": [
    "## SVM using SGD: No Feature Augmentation"
   ]
  },
  {
   "cell_type": "code",
   "execution_count": 5,
   "metadata": {},
   "outputs": [
    {
     "name": "stdout",
     "output_type": "stream",
     "text": [
      "Fitting 3 folds for each of 432 candidates, totalling 1296 fits\n"
     ]
    },
    {
     "name": "stderr",
     "output_type": "stream",
     "text": [
      "[Parallel(n_jobs=-1)]: Using backend LokyBackend with 8 concurrent workers.\n",
      "[Parallel(n_jobs=-1)]: Done  34 tasks      | elapsed:    1.3s\n"
     ]
    },
    {
     "name": "stdout",
     "output_type": "stream",
     "text": [
      "Best Score (F1 micro): 0.735584\n",
      "Optimal Hyperparameter Values:  {'svm_sgd__alpha': 0.01, 'svm_sgd__eta0': 0.1, 'svm_sgd__learning_rate': 'constant', 'svm_sgd__max_iter': 500, 'svm_sgd__penalty': 'l2', 'svm_sgd__tol': 0.001}\n",
      "\n",
      "\n",
      "CPU times: user 1.59 s, sys: 115 ms, total: 1.71 s\n",
      "Wall time: 2.98 s\n"
     ]
    },
    {
     "name": "stderr",
     "output_type": "stream",
     "text": [
      "[Parallel(n_jobs=-1)]: Done 1296 out of 1296 | elapsed:    2.9s finished\n"
     ]
    }
   ],
   "source": [
    "%%time\n",
    "\n",
    "warnings.filterwarnings('ignore')\n",
    "\n",
    "svm_sgd_pipeline = Pipeline([\n",
    "        (\"scaler\", StandardScaler()),\n",
    "        (\"svm_sgd\", SGDClassifier(loss='hinge')),\n",
    "    ])\n",
    "\n",
    "\n",
    "param_grid = {'svm_sgd__alpha': [0.01, 0.001],\n",
    "              'svm_sgd__penalty' : [\"l2\", \"l1\"],\n",
    "              'svm_sgd__learning_rate': [\"constant\", \"optimal\", \"invscaling\", \"adaptive\"], \n",
    "              'svm_sgd__max_iter':[500, 1000, 3000],\n",
    "              'svm_sgd__eta0': [0.1, 0.01, 0.001],\n",
    "              'svm_sgd__tol': [1e-3, 1e-5, 1e-8]}\n",
    "\n",
    "\n",
    "svm_clf = GridSearchCV(svm_sgd_pipeline, param_grid, scoring='f1', cv=3, verbose=1, n_jobs=-1)\n",
    "svm_clf.fit(X_train, y_train)\n",
    "\n",
    "params_optimal = svm_clf.best_params_\n",
    "\n",
    "print(\"Best Score (F1 micro): %f\" % svm_clf.best_score_)\n",
    "print(\"Optimal Hyperparameter Values: \", params_optimal)\n",
    "print(\"\\n\")"
   ]
  },
  {
   "cell_type": "markdown",
   "metadata": {},
   "source": [
    "## No Feature Augmentation: Evaluation"
   ]
  },
  {
   "cell_type": "code",
   "execution_count": 6,
   "metadata": {},
   "outputs": [
    {
     "name": "stdout",
     "output_type": "stream",
     "text": [
      "\n",
      "Train Accuracy:  0.4875\n",
      "Test Accuracy:  0.5333333333333333\n"
     ]
    }
   ],
   "source": [
    "y_train_predicted_svm = svm_clf.predict(X_train)\n",
    "\n",
    "accuracy_score_train_svm = np.mean(y_train_predicted_svm == y_train)\n",
    "print(\"\\nTrain Accuracy: \", accuracy_score_train_svm)\n",
    "\n",
    "y_test_predicted_svm = svm_clf.predict(X_test)\n",
    "\n",
    "accuracy_score_test_svm = np.mean(y_test_predicted_svm == y_test)\n",
    "print(\"Test Accuracy: \", accuracy_score_test_svm)"
   ]
  },
  {
   "cell_type": "markdown",
   "metadata": {},
   "source": [
    "## Polynomial SVM using SGD: Feature Augmentation"
   ]
  },
  {
   "cell_type": "code",
   "execution_count": 7,
   "metadata": {},
   "outputs": [
    {
     "name": "stderr",
     "output_type": "stream",
     "text": [
      "[Parallel(n_jobs=-1)]: Using backend LokyBackend with 8 concurrent workers.\n"
     ]
    },
    {
     "name": "stdout",
     "output_type": "stream",
     "text": [
      "Fitting 3 folds for each of 1296 candidates, totalling 3888 fits\n"
     ]
    },
    {
     "name": "stderr",
     "output_type": "stream",
     "text": [
      "[Parallel(n_jobs=-1)]: Done 268 tasks      | elapsed:    0.6s\n",
      "[Parallel(n_jobs=-1)]: Done 2368 tasks      | elapsed:    3.7s\n"
     ]
    },
    {
     "name": "stdout",
     "output_type": "stream",
     "text": [
      "Best Score (F1 micro): 0.979721\n",
      "Optimal Hyperparameter Values:  {'poly__degree': 2, 'svm_sgd__alpha': 0.01, 'svm_sgd__eta0': 0.1, 'svm_sgd__learning_rate': 'constant', 'svm_sgd__max_iter': 1000, 'svm_sgd__penalty': 'l1', 'svm_sgd__tol': 0.001}\n",
      "\n",
      "\n",
      "CPU times: user 5.87 s, sys: 89.6 ms, total: 5.96 s\n",
      "Wall time: 6.52 s\n"
     ]
    },
    {
     "name": "stderr",
     "output_type": "stream",
     "text": [
      "[Parallel(n_jobs=-1)]: Done 3888 out of 3888 | elapsed:    6.5s finished\n"
     ]
    }
   ],
   "source": [
    "%%time\n",
    "\n",
    "warnings.filterwarnings('ignore')\n",
    "\n",
    "# Create a Pipeline object\n",
    "svm_sgd_polynomial_pipeline = Pipeline([\n",
    "        # Bias should be excluded because by default SGDRegressor adds bias via the \"fit_intercept\" parameter\n",
    "        ('poly', PolynomialFeatures(include_bias=False)), \n",
    "        ('scaler', StandardScaler()),\n",
    "        (\"svm_sgd\", SGDClassifier(loss='hinge')),\n",
    "    ])\n",
    "\n",
    "param_grid = {'poly__degree': [1, 2, 3],\n",
    "              'svm_sgd__alpha': [0.01, 0.001],\n",
    "              'svm_sgd__penalty' : [\"l2\", \"l1\"],\n",
    "              'svm_sgd__learning_rate': [\"constant\", \"optimal\", \"invscaling\", \"adaptive\"], \n",
    "              'svm_sgd__max_iter':[500, 1000, 3000],\n",
    "              'svm_sgd__eta0': [0.1, 0.01, 0.001],\n",
    "              'svm_sgd__tol': [1e-3, 1e-5, 1e-8]}\n",
    "\n",
    "\n",
    "svm_clf_polynomial = GridSearchCV(svm_sgd_polynomial_pipeline, param_grid, scoring='f1', cv=3, verbose=1, n_jobs=-1)\n",
    "svm_clf_polynomial.fit(X_train, y_train)\n",
    "\n",
    "params_optimal = svm_clf_polynomial.best_params_\n",
    "\n",
    "print(\"Best Score (F1 micro): %f\" % svm_clf_polynomial.best_score_)\n",
    "print(\"Optimal Hyperparameter Values: \", params_optimal)\n",
    "print(\"\\n\")"
   ]
  },
  {
   "cell_type": "markdown",
   "metadata": {},
   "source": [
    "## Feature Augmentation: Evaluation"
   ]
  },
  {
   "cell_type": "code",
   "execution_count": 8,
   "metadata": {},
   "outputs": [
    {
     "name": "stdout",
     "output_type": "stream",
     "text": [
      "\n",
      "Train Accuracy:  0.9791666666666666\n",
      "Test Accuracy:  0.9666666666666667\n"
     ]
    }
   ],
   "source": [
    "y_train_predicted_svm_polynomial = svm_clf_polynomial.predict(X_train)\n",
    "\n",
    "accuracy_score_train_svm_polynomial = np.mean(y_train_predicted_svm_polynomial == y_train)\n",
    "print(\"\\nTrain Accuracy: \", accuracy_score_train_svm_polynomial)\n",
    "\n",
    "y_test_predicted_svm_polynomial = svm_clf_polynomial.predict(X_test)\n",
    "\n",
    "accuracy_score_test_svm_polynomial = np.mean(y_test_predicted_svm_polynomial == y_test)\n",
    "print(\"Test Accuracy: \", accuracy_score_test_svm_polynomial)"
   ]
  },
  {
   "cell_type": "markdown",
   "metadata": {},
   "source": [
    "## Compare Decision Boundaries: Linear SVM vs Polynomial SVM"
   ]
  },
  {
   "cell_type": "code",
   "execution_count": 9,
   "metadata": {},
   "outputs": [
    {
     "data": {
      "image/png": "[encoded data removed]",
      "text/plain": [
       "<Figure size 1296x432 with 2 Axes>"
      ]
     },
     "metadata": {},
     "output_type": "display_data"
    }
   ],
   "source": [
    "plt.figure(figsize=(18, 6))\n",
    "plt.subplot(121)\n",
    "\n",
    "plt.plot(X[y.ravel()==0, 0], X[y.ravel()==0, 1], \"wo\", markeredgecolor=\"k\", label=\"Class 0\")\n",
    "plt.plot(X[y.ravel()==1, 0], X[y.ravel()==1, 1], \"yo\", markeredgecolor=\"k\", label=\"Class 1\")\n",
    "\n",
    "decision_boundary_class_colored(svm_clf, X, plotDistanceFromHyperplane=False, colorBar=False)\n",
    "\n",
    "plt.xlabel(\"x1\", fontsize=14)\n",
    "plt.ylabel(\"x2\", fontsize=14)\n",
    "plt.legend(loc=\"best\", fontsize=14)\n",
    "plt.title(\"Linear SVM: Test Accuracy %.2f\" % accuracy_score_test_svm)\n",
    "plt.xticks(())\n",
    "plt.yticks(())\n",
    "\n",
    "\n",
    "plt.subplot(122)\n",
    "plt.plot(X[y.ravel()==0, 0], X[y.ravel()==0, 1], \"wo\", markeredgecolor=\"k\")\n",
    "plt.plot(X[y.ravel()==1, 0], X[y.ravel()==1, 1], \"yo\", markeredgecolor=\"k\")\n",
    "\n",
    "decision_boundary_class_colored(svm_clf_polynomial, X, plotDistanceFromHyperplane=False, colorBar=False)\n",
    "\n",
    "plt.xlabel(\"x1\", fontsize=14)\n",
    "plt.ylabel(\"x2\", fontsize=14)\n",
    "plt.title(\"Polynomial SVM: Test Accuracy %.2f\" % accuracy_score_test_svm_polynomial)\n",
    "plt.xticks(())\n",
    "plt.yticks(())\n",
    "plt.show()"
   ]
  }
 ],
 "metadata": {
  "kernelspec": {
   "display_name": "Python 3",
   "language": "python",
   "name": "python3"
  },
  "language_info": {
   "codemirror_mode": {
    "name": "ipython",
    "version": 3
   },
   "file_extension": ".py",
   "mimetype": "text/x-python",
   "name": "python",
   "nbconvert_exporter": "python",
   "pygments_lexer": "ipython3",
   "version": "3.7.3"
  }
 },
 "nbformat": 4,
 "nbformat_minor": 2
}
