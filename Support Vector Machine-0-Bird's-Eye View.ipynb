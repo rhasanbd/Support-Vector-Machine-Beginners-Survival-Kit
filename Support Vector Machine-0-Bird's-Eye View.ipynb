{
 "cells": [
  {
   "cell_type": "markdown",
   "metadata": {},
   "source": [
    "# Support Vector Machine (SVM) - Bird's-Eye View\n",
    "\n",
    "In this notebook, we provide a bird's-eye view representation of the main algorithms of the Support Vector Machine (SVM) model for solving binary classification problems. However, we need to be aware of the limitation of this type of extreme summarization.\n",
    "\n",
    "There are certain things that are not summarizable!\n",
    "\n",
    "Why not?\n",
    "\n",
    "Let's look at two quick examples.\n",
    "\n",
    "\n",
    "### Anna Karenina in a Single Line!!!!\n",
    "\n",
    "What would a one-line summary of Count Tolstoy's novel Anna Karenina?\n",
    "\n",
    "    Anna Karenina is the story of Anna Karenina's unhappy marital life.\n",
    "    \n",
    "   or\n",
    "\n",
    "    Anna Karenina portrays a panoramic view of Imperial Russia.\n",
    "\n",
    "\n",
    "None of these summaries do any justice to the 800+ page long masterpiece. It is not possible to represent Anna Karenina in one line, or in one paragraph, or even one page.\n",
    "\n",
    "\n",
    "Another example.\n",
    "\n",
    "\n",
    "### Monet in Grayscale!!!!\n",
    "\n",
    "What if we represent a color print of Monet's impressionist masterpiece **Sunrise** in grayscale?\n",
    "\n",
    "<img src=\"https://cse.unl.edu/~hasan/Pics/Sunrise_Monet.png\" width=500, height=400>\n",
    "\n",
    "\n",
    "\n",
    "\n",
    "The **Sunrise** in grayscale is a disaster, no less than a crime! All of its impressionist nuances are gone. One can no loger render its majestic glory.\n",
    "\n",
    "<img src=\"https://cse.unl.edu/~hasan/Pics/Sunrise_Monet_grayscale.png\" width=500, height=400>\n",
    "\n",
    "\n",
    "\n",
    "## SVM: Mindless Summarization\n",
    "\n",
    "Stripping the presentation of SVM of its mathematical splendor is equally disastrous. Yet to sketch its key approaches for solving classification problems, we take a 10000 feet view of SVM .\n",
    "\n",
    "We depict SVM in broad strokes. Let's say that we want to solve a binary classification problem. \n",
    "\n",
    "SVM tries to maximize the width of the decision boundary. But it has to satisfy a constraint, i.e., samples of two classes should be above and below their respective margins. \n",
    "\n",
    "\n",
    "<img src=\"https://cse.unl.edu/~hasan/Pics/SVM-Max-MarginClassifier.png\" width=400, height=300>\n",
    "\n",
    "\n",
    "\n",
    "\n",
    "### Algorithms\n",
    "This margin maximization problem is modeled as a **constrained optimization** problem subject to an inequality constraint. There are two formulations of this maximization problem.\n",
    "\n",
    "- Primal\n",
    "- Dual\n",
    "\n",
    "\n",
    "\n",
    "There are two cases:\n",
    "- Linear dataset (classes are linearly separable)\n",
    "- Nonlinear dataset (classes are not linearly separable)\n",
    "\n",
    "For the linear dataset, there are two sub-cases:\n",
    "- Low-dimensional data\n",
    "- High-dimensional data\n",
    "\n",
    "#### Linear Dataset: Low-dimensional\n",
    "\n",
    "\n",
    "The primal algorithm can be used for this type of dataset. However, it is ineffcient for high-dimensional data.\n",
    "\n",
    "\n",
    "#### Linear Dataset: High-dimensional\n",
    "\n",
    "The dual algorithm is efficient for high-dimensional data. However, it is inefficient for large dataset.\n",
    "\n",
    "The dual algorithm has **another advantage** that is suitable for nonlinear dataset.\n",
    "\n",
    "\n",
    "\n",
    "#### Nonlinear Dataset\n",
    "\n",
    "For a **nonlinear dataset**, we need to augment the features, which increases the model's complexity. The dual algorithm allows to augment the data without increasing a model's complexity. This magical property is achieved by the **kernel trick**, which the dual algorithm enables to implement. \n",
    "\n",
    "A kernel is a function that allows to compute the dot product between the features in a high-dimensional space without enbedding the features in that space. There are various choices for the kernel function. In this notebook, we use the following kernel functions.\n",
    "- Polynomial\n",
    "- Gaussian Radial Basis Function (RBF)\n",
    "\n",
    "Thus, the dual problem formulation is suitable for nonlinear data. Given a linearly non-separable dataset consisting of two classes, we use the dual algorithm with kernel trick. \n",
    "\n",
    "\n",
    "\n",
    "## Summary\n",
    "\n",
    "We use two datasets for the study in this notebook:\n",
    "- Linear\n",
    "- Nonlinear\n",
    "\n",
    "We study both the primal and dual algorithms for the SVM model.\n",
    "- Primal\n",
    "- Dual (without kernel)\n",
    "- Dual (with Polynomial kernel)\n",
    "- Dual (with Gaussian RBF kernel)\n",
    "\n",
    "        There is a Gradient Descent algorithm for solving the max margin learning problem in SVM, which we don't discuss in this notebook.\n",
    "\n",
    "## Scikit-Learn Implementation\n",
    "\n",
    "To apply the primal algorithm, we use Scikit-Learn's LinearSVC class.\n",
    "\n",
    "https://scikit-learn.org/stable/modules/generated/sklearn.svm.LinearSVC.html\n",
    "\n",
    "For the dual algorithm, we use the SVC class with selected kernels.\n",
    "\n",
    "https://scikit-learn.org/stable/modules/generated/sklearn.svm.SVC.html\n",
    "\n",
    "\n",
    "We don't perform hyperparameter tuning to keep our presentation simple."
   ]
  },
  {
   "cell_type": "code",
   "execution_count": 1,
   "metadata": {},
   "outputs": [],
   "source": [
    "import numpy as np\n",
    "import matplotlib.pyplot as plt\n",
    "\n",
    "from sklearn.preprocessing import StandardScaler\n",
    "from sklearn.datasets import make_circles\n",
    "from sklearn.pipeline import Pipeline\n",
    "from sklearn.svm import LinearSVC, SVC\n",
    "from sklearn.metrics import confusion_matrix\n",
    "\n",
    "np.random.seed(43)"
   ]
  },
  {
   "cell_type": "markdown",
   "metadata": {},
   "source": [
    "# Linear Data"
   ]
  },
  {
   "cell_type": "code",
   "execution_count": 2,
   "metadata": {},
   "outputs": [
    {
     "data": {
      "image/png": "[encoded data removed]",
      "text/plain": [
       "<Figure size 1152x576 with 1 Axes>"
      ]
     },
     "metadata": {},
     "output_type": "display_data"
    }
   ],
   "source": [
    "m0 = 200  # no. of training examples for class 0\n",
    "\n",
    "# Generate class 0 data points randomly from a uniform distribution\n",
    "#    Here a & b are 2 dimensions for each data (feature) point\n",
    "a = np.random.rand(m0,1)\n",
    "b = 4 + a + np.random.rand(m0,1)\n",
    "\n",
    "# Concatenate the 2 dimensions of each feature to create the data matrix for class 0 \n",
    "X0 = np.concatenate((a, b), axis=1)\n",
    "\n",
    "# Create the target vector for class 0 (target is coded with zeros)\n",
    "X0_target = np.zeros((m0,), dtype=np.int).reshape(-1, 1)\n",
    "\n",
    "m1 = 200  # no. of training examples for class 1\n",
    "\n",
    "# Generate class 1 data points randomly from a uniform distribution\n",
    "#    Here c & d are 2 dimensions for each data (feature) point\n",
    "c = np.random.rand(m1,1)\n",
    "d = 6 + c + np.random.rand(m1,1)\n",
    "\n",
    "# Concatenate the 2 dimensions of each feature to create the data matrix for class 1\n",
    "X1 = np.concatenate((c, d), axis=1)\n",
    "\n",
    "# Create the target vector for class 1 (target is coded with ones)\n",
    "X1_target = np.ones((m1,), dtype=np.int).reshape(-1, 1)\n",
    "\n",
    "# All training examples for class 0 and 1\n",
    "X = np.append(X0, X1, axis=0)\n",
    "\n",
    "# All target values for class 0 & 1\n",
    "y = np.concatenate((X0_target, X1_target), axis=0)\n",
    "\n",
    "# Create a 1D row vector ofthe target with float values\n",
    "y = y.ravel()*1.0\n",
    "#print(y)\n",
    "\n",
    "# Draw a scatter plot\n",
    "plt.figure(figsize=(16,8))\n",
    "plt.plot(X[:, 0][y==1], X[:, 1][y==1], \"bo\", label=\"Class 0\")\n",
    "plt.plot(X[:, 0][y==0], X[:, 1][y==0], \"ro\", label=\"Class 1\")\n",
    "plt.title(\"Linearly Separable Data\", fontsize=18)\n",
    "plt.legend(loc=2)\n",
    "plt.xlabel(\"$x_1$\", fontsize=12)\n",
    "plt.ylabel(\"$x_2$\", rotation=90, fontsize=12)\n",
    "plt.xticks(())\n",
    "plt.yticks(())\n",
    "plt.show()"
   ]
  },
  {
   "cell_type": "markdown",
   "metadata": {},
   "source": [
    "## SVM: Primal Problem"
   ]
  },
  {
   "cell_type": "code",
   "execution_count": 3,
   "metadata": {},
   "outputs": [
    {
     "name": "stdout",
     "output_type": "stream",
     "text": [
      "\n",
      "Train Accuracy:  1.0\n",
      "\n",
      "Train Confusion Matrix:\n",
      "[[200   0]\n",
      " [  0 200]]\n"
     ]
    }
   ],
   "source": [
    "scaler = StandardScaler()\n",
    "svm_clf_primal = LinearSVC(dual=False)\n",
    "\n",
    "scaled_svm_clf_primal = Pipeline([\n",
    "        (\"scaler\", scaler),\n",
    "        (\"linear_svc\", svm_clf_primal),\n",
    "    ])\n",
    "\n",
    "scaled_svm_clf_primal.fit(X, y)\n",
    "\n",
    "y_predicted = scaled_svm_clf_primal.predict(X)\n",
    "\n",
    "\n",
    "accuracy_score = np.mean(y_predicted == y)\n",
    "print(\"\\nTrain Accuracy: \", accuracy_score)\n",
    "\n",
    "print(\"\\nTrain Confusion Matrix:\")\n",
    "print(confusion_matrix(y, y_predicted))"
   ]
  },
  {
   "cell_type": "markdown",
   "metadata": {},
   "source": [
    "# Nonlinear Data"
   ]
  },
  {
   "cell_type": "code",
   "execution_count": 4,
   "metadata": {},
   "outputs": [
    {
     "data": {
      "image/png": "[encoded data removed]",
      "text/plain": [
       "<Figure size 864x432 with 1 Axes>"
      ]
     },
     "metadata": {},
     "output_type": "display_data"
    }
   ],
   "source": [
    "X, y = make_circles(300, factor=0.4, noise=0.15)\n",
    "\n",
    "label = y\n",
    "\n",
    "plt.figure(figsize=(12, 6))\n",
    "\n",
    "plt.scatter(X[:, 0], X[:, 1], c=y, s=50, cmap='autumn')\n",
    "\n",
    "plt.title(\"Nonlinear Data\", fontsize=16)\n",
    "plt.xlabel(\"$x_1$\", fontsize=14)\n",
    "plt.ylabel(\"$x_2$\", fontsize=14)\n",
    "plt.axis([-1.5, 1.5, -1.7, 1.7])\n",
    "plt.xticks(())\n",
    "plt.yticks(())\n",
    "plt.show()"
   ]
  },
  {
   "cell_type": "markdown",
   "metadata": {},
   "source": [
    "## SVM: Primal Problem "
   ]
  },
  {
   "cell_type": "code",
   "execution_count": 5,
   "metadata": {},
   "outputs": [
    {
     "name": "stdout",
     "output_type": "stream",
     "text": [
      "\n",
      "Train Accuracy:  0.5066666666666667\n",
      "\n",
      "Train Confusion Matrix:\n",
      "[[73 77]\n",
      " [71 79]]\n"
     ]
    }
   ],
   "source": [
    "scaler = StandardScaler()\n",
    "svm_clf_primal = LinearSVC(dual=False)\n",
    "\n",
    "scaled_svm_clf_primal = Pipeline([\n",
    "        (\"scaler\", scaler),\n",
    "        (\"linear_svc\", svm_clf_primal),\n",
    "    ])\n",
    "\n",
    "scaled_svm_clf_primal.fit(X, y)\n",
    "\n",
    "y_predicted = scaled_svm_clf_primal.predict(X)\n",
    "\n",
    "\n",
    "accuracy_score = np.mean(y_predicted == y)\n",
    "print(\"\\nTrain Accuracy: \", accuracy_score)\n",
    "\n",
    "print(\"\\nTrain Confusion Matrix:\")\n",
    "print(confusion_matrix(y, y_predicted))"
   ]
  },
  {
   "cell_type": "markdown",
   "metadata": {},
   "source": [
    "# SVM: Dual Problem without Kernel Trick"
   ]
  },
  {
   "cell_type": "code",
   "execution_count": 6,
   "metadata": {},
   "outputs": [
    {
     "name": "stdout",
     "output_type": "stream",
     "text": [
      "\n",
      "Train Accuracy:  0.5066666666666667\n",
      "\n",
      "Train Confusion Matrix:\n",
      "[[73 77]\n",
      " [71 79]]\n"
     ]
    }
   ],
   "source": [
    "scaler = StandardScaler()\n",
    "svm_clf_dual = LinearSVC(dual=True)\n",
    "\n",
    "\n",
    "scaled_svm_clf_dual = Pipeline([\n",
    "        (\"scaler\", scaler),\n",
    "        (\"linear_svc\", svm_clf_dual),\n",
    "    ])\n",
    "\n",
    "scaled_svm_clf_dual.fit(X, y)\n",
    "\n",
    "y_predicted = scaled_svm_clf_dual.predict(X)\n",
    "\n",
    "\n",
    "accuracy_score = np.mean(y_predicted == y)\n",
    "print(\"\\nTrain Accuracy: \", accuracy_score)\n",
    "\n",
    "print(\"\\nTrain Confusion Matrix:\")\n",
    "print(confusion_matrix(y, y_predicted))"
   ]
  },
  {
   "cell_type": "markdown",
   "metadata": {},
   "source": [
    "## SVM: Dual Problem with Kernel Trick (Polynomial Kernel)"
   ]
  },
  {
   "cell_type": "code",
   "execution_count": 7,
   "metadata": {},
   "outputs": [
    {
     "name": "stdout",
     "output_type": "stream",
     "text": [
      "\n",
      "Train Accuracy:  0.9866666666666667\n",
      "\n",
      "Train Confusion Matrix:\n",
      "[[147   3]\n",
      " [  1 149]]\n"
     ]
    }
   ],
   "source": [
    "scaler = StandardScaler()\n",
    "\n",
    "svm_clf_poly = SVC(kernel='poly', degree=2)\n",
    "\n",
    "\n",
    "scaled_svm_clf_poly = Pipeline([\n",
    "        (\"scaler\", scaler),\n",
    "        (\"linear_svc\", svm_clf_poly),\n",
    "    ])\n",
    "\n",
    "scaled_svm_clf_poly.fit(X, y)\n",
    "\n",
    "y_predicted = scaled_svm_clf_poly.predict(X)\n",
    "\n",
    "\n",
    "accuracy_score = np.mean(y_predicted == y)\n",
    "print(\"\\nTrain Accuracy: \", accuracy_score)\n",
    "\n",
    "print(\"\\nTrain Confusion Matrix:\")\n",
    "print(confusion_matrix(y, y_predicted))"
   ]
  },
  {
   "cell_type": "markdown",
   "metadata": {},
   "source": [
    "## SVM: Dual Problem with Kernel Trick (Gaussian RBF Kernel)"
   ]
  },
  {
   "cell_type": "code",
   "execution_count": 8,
   "metadata": {},
   "outputs": [
    {
     "name": "stdout",
     "output_type": "stream",
     "text": [
      "\n",
      "Train Accuracy:  0.9833333333333333\n",
      "\n",
      "Train Confusion Matrix:\n",
      "[[147   3]\n",
      " [  2 148]]\n"
     ]
    }
   ],
   "source": [
    "scaler = StandardScaler()\n",
    "svm_clf_rbf = SVC(kernel=\"rbf\")\n",
    "\n",
    "\n",
    "scaled_svm_clf_rbf = Pipeline([\n",
    "        (\"scaler\", scaler),\n",
    "        (\"linear_svc\", svm_clf_rbf),\n",
    "    ])\n",
    "\n",
    "scaled_svm_clf_rbf.fit(X, y)\n",
    "\n",
    "y_predicted = scaled_svm_clf_rbf.predict(X)\n",
    "\n",
    "\n",
    "accuracy_score = np.mean(y_predicted == y)\n",
    "print(\"\\nTrain Accuracy: \", accuracy_score)\n",
    "\n",
    "print(\"\\nTrain Confusion Matrix:\")\n",
    "print(confusion_matrix(y, y_predicted))"
   ]
  }
 ],
 "metadata": {
  "kernelspec": {
   "display_name": "Python 3",
   "language": "python",
   "name": "python3"
  },
  "language_info": {
   "codemirror_mode": {
    "name": "ipython",
    "version": 3
   },
   "file_extension": ".py",
   "mimetype": "text/x-python",
   "name": "python",
   "nbconvert_exporter": "python",
   "pygments_lexer": "ipython3",
   "version": "3.7.3"
  }
 },
 "nbformat": 4,
 "nbformat_minor": 2
}
